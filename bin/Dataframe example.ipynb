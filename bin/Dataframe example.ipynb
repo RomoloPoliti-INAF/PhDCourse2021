{
 "cells": [
  {
   "cell_type": "markdown",
   "id": "1539a8a3",
   "metadata": {},
   "source": [
    "# Pandas DataFrame"
   ]
  },
  {
   "cell_type": "code",
   "execution_count": 22,
   "id": "9df77ba0",
   "metadata": {},
   "outputs": [],
   "source": [
    "import pandas as pd"
   ]
  },
  {
   "cell_type": "markdown",
   "id": "07d38b6a",
   "metadata": {},
   "source": [
    "Costruiamo un **DataFrame**"
   ]
  },
  {
   "cell_type": "code",
   "execution_count": 69,
   "id": "1cd0d952",
   "metadata": {},
   "outputs": [],
   "source": [
    "df = pd.DataFrame({'name' : ['name1','name2','name3','name4'],\n",
    "                   'shape': ['2x4','5x6','7x8','9x10']})"
   ]
  },
  {
   "cell_type": "code",
   "execution_count": 70,
   "id": "52f8c121",
   "metadata": {},
   "outputs": [
    {
     "data": {
      "text/html": [
       "<div>\n",
       "<style scoped>\n",
       "    .dataframe tbody tr th:only-of-type {\n",
       "        vertical-align: middle;\n",
       "    }\n",
       "\n",
       "    .dataframe tbody tr th {\n",
       "        vertical-align: top;\n",
       "    }\n",
       "\n",
       "    .dataframe thead th {\n",
       "        text-align: right;\n",
       "    }\n",
       "</style>\n",
       "<table border=\"1\" class=\"dataframe\">\n",
       "  <thead>\n",
       "    <tr style=\"text-align: right;\">\n",
       "      <th></th>\n",
       "      <th>name</th>\n",
       "      <th>shape</th>\n",
       "    </tr>\n",
       "  </thead>\n",
       "  <tbody>\n",
       "    <tr>\n",
       "      <th>0</th>\n",
       "      <td>name1</td>\n",
       "      <td>2x4</td>\n",
       "    </tr>\n",
       "    <tr>\n",
       "      <th>1</th>\n",
       "      <td>name2</td>\n",
       "      <td>5x6</td>\n",
       "    </tr>\n",
       "    <tr>\n",
       "      <th>2</th>\n",
       "      <td>name3</td>\n",
       "      <td>7x8</td>\n",
       "    </tr>\n",
       "    <tr>\n",
       "      <th>3</th>\n",
       "      <td>name4</td>\n",
       "      <td>9x10</td>\n",
       "    </tr>\n",
       "  </tbody>\n",
       "</table>\n",
       "</div>"
      ],
      "text/plain": [
       "    name shape\n",
       "0  name1   2x4\n",
       "1  name2   5x6\n",
       "2  name3   7x8\n",
       "3  name4  9x10"
      ]
     },
     "execution_count": 70,
     "metadata": {},
     "output_type": "execute_result"
    }
   ],
   "source": [
    "df"
   ]
  },
  {
   "cell_type": "markdown",
   "id": "34518a70",
   "metadata": {},
   "source": [
    "Aggiungiamo due colonne ***x*** e ***y*** estraendo i valori dal campo ***shape***"
   ]
  },
  {
   "cell_type": "code",
   "execution_count": 71,
   "id": "4c2c2136",
   "metadata": {},
   "outputs": [],
   "source": [
    "df['x'] = df['shape'].apply(lambda x: int(x.split('x')[0]))"
   ]
  },
  {
   "cell_type": "code",
   "execution_count": 72,
   "id": "217c88b9",
   "metadata": {},
   "outputs": [],
   "source": [
    "df['y'] = df['shape'].apply(lambda x: int(x.split('x')[1]))"
   ]
  },
  {
   "cell_type": "markdown",
   "id": "52fa1004",
   "metadata": {},
   "source": [
    "**NB** L'espressione precedente è equivalente a:"
   ]
  },
  {
   "cell_type": "code",
   "execution_count": 73,
   "id": "a8d34cdd",
   "metadata": {},
   "outputs": [],
   "source": [
    "df.y = df['shape'].apply(lambda x: int(x.split('x')[1]))"
   ]
  },
  {
   "cell_type": "markdown",
   "id": "08426fa4",
   "metadata": {},
   "source": [
    "In questo caso ***df.y*** viene rappresentato come una tupla, ***df['shape']*** come un dizionnario. Il metodo *apply* può essere applicato solo a un dizionario"
   ]
  },
  {
   "cell_type": "code",
   "execution_count": 74,
   "id": "09f7b733",
   "metadata": {},
   "outputs": [
    {
     "ename": "AttributeError",
     "evalue": "'tuple' object has no attribute 'apply'",
     "output_type": "error",
     "traceback": [
      "\u001b[0;31m---------------------------------------------------------------------------\u001b[0m",
      "\u001b[0;31mAttributeError\u001b[0m                            Traceback (most recent call last)",
      "\u001b[0;32m<ipython-input-74-72ad14607ebe>\u001b[0m in \u001b[0;36m<module>\u001b[0;34m\u001b[0m\n\u001b[0;32m----> 1\u001b[0;31m \u001b[0mdf\u001b[0m\u001b[0;34m.\u001b[0m\u001b[0my\u001b[0m \u001b[0;34m=\u001b[0m \u001b[0mdf\u001b[0m\u001b[0;34m.\u001b[0m\u001b[0mshape\u001b[0m\u001b[0;34m.\u001b[0m\u001b[0mapply\u001b[0m\u001b[0;34m(\u001b[0m\u001b[0;32mlambda\u001b[0m \u001b[0mx\u001b[0m\u001b[0;34m:\u001b[0m \u001b[0mint\u001b[0m\u001b[0;34m(\u001b[0m\u001b[0mx\u001b[0m\u001b[0;34m.\u001b[0m\u001b[0msplit\u001b[0m\u001b[0;34m(\u001b[0m\u001b[0;34m'x'\u001b[0m\u001b[0;34m)\u001b[0m\u001b[0;34m[\u001b[0m\u001b[0;36m1\u001b[0m\u001b[0;34m]\u001b[0m\u001b[0;34m)\u001b[0m\u001b[0;34m)\u001b[0m\u001b[0;34m\u001b[0m\u001b[0;34m\u001b[0m\u001b[0m\n\u001b[0m",
      "\u001b[0;31mAttributeError\u001b[0m: 'tuple' object has no attribute 'apply'"
     ]
    }
   ],
   "source": [
    "df.y = df.shape.apply(lambda x: int(x.split('x')[1]))"
   ]
  },
  {
   "cell_type": "markdown",
   "id": "644fbcf0",
   "metadata": {},
   "source": [
    "Notate che il messaggio d'errore riporta attributo e non metodo, questo perchè, come abbiamo visto, le funzioni sono oggetti, quindi per python metodi ed attributi sono sinonimi, anche se con significati semantici diversi "
   ]
  },
  {
   "cell_type": "code",
   "execution_count": 75,
   "id": "cba1fe63",
   "metadata": {},
   "outputs": [
    {
     "data": {
      "text/html": [
       "<div>\n",
       "<style scoped>\n",
       "    .dataframe tbody tr th:only-of-type {\n",
       "        vertical-align: middle;\n",
       "    }\n",
       "\n",
       "    .dataframe tbody tr th {\n",
       "        vertical-align: top;\n",
       "    }\n",
       "\n",
       "    .dataframe thead th {\n",
       "        text-align: right;\n",
       "    }\n",
       "</style>\n",
       "<table border=\"1\" class=\"dataframe\">\n",
       "  <thead>\n",
       "    <tr style=\"text-align: right;\">\n",
       "      <th></th>\n",
       "      <th>name</th>\n",
       "      <th>shape</th>\n",
       "      <th>x</th>\n",
       "      <th>y</th>\n",
       "    </tr>\n",
       "  </thead>\n",
       "  <tbody>\n",
       "    <tr>\n",
       "      <th>0</th>\n",
       "      <td>name1</td>\n",
       "      <td>2x4</td>\n",
       "      <td>2</td>\n",
       "      <td>4</td>\n",
       "    </tr>\n",
       "    <tr>\n",
       "      <th>1</th>\n",
       "      <td>name2</td>\n",
       "      <td>5x6</td>\n",
       "      <td>5</td>\n",
       "      <td>6</td>\n",
       "    </tr>\n",
       "    <tr>\n",
       "      <th>2</th>\n",
       "      <td>name3</td>\n",
       "      <td>7x8</td>\n",
       "      <td>7</td>\n",
       "      <td>8</td>\n",
       "    </tr>\n",
       "    <tr>\n",
       "      <th>3</th>\n",
       "      <td>name4</td>\n",
       "      <td>9x10</td>\n",
       "      <td>9</td>\n",
       "      <td>10</td>\n",
       "    </tr>\n",
       "  </tbody>\n",
       "</table>\n",
       "</div>"
      ],
      "text/plain": [
       "    name shape  x   y\n",
       "0  name1   2x4  2   4\n",
       "1  name2   5x6  5   6\n",
       "2  name3   7x8  7   8\n",
       "3  name4  9x10  9  10"
      ]
     },
     "execution_count": 75,
     "metadata": {},
     "output_type": "execute_result"
    }
   ],
   "source": [
    "df"
   ]
  },
  {
   "cell_type": "markdown",
   "id": "775e45d7",
   "metadata": {},
   "source": [
    "Definiamo una funzione ***peri*** che calcola il perimetro a partire dai valori ***x*** e ***y***"
   ]
  },
  {
   "cell_type": "code",
   "execution_count": 76,
   "id": "e329923f",
   "metadata": {},
   "outputs": [],
   "source": [
    "def peri(x,y):\n",
    "    return 2*x+2*y"
   ]
  },
  {
   "cell_type": "code",
   "execution_count": 77,
   "id": "599b0830",
   "metadata": {},
   "outputs": [],
   "source": [
    "df['Perimetro'] = peri(df['x'],df['y'])"
   ]
  },
  {
   "cell_type": "code",
   "execution_count": 78,
   "id": "36290f3f",
   "metadata": {},
   "outputs": [
    {
     "data": {
      "text/html": [
       "<div>\n",
       "<style scoped>\n",
       "    .dataframe tbody tr th:only-of-type {\n",
       "        vertical-align: middle;\n",
       "    }\n",
       "\n",
       "    .dataframe tbody tr th {\n",
       "        vertical-align: top;\n",
       "    }\n",
       "\n",
       "    .dataframe thead th {\n",
       "        text-align: right;\n",
       "    }\n",
       "</style>\n",
       "<table border=\"1\" class=\"dataframe\">\n",
       "  <thead>\n",
       "    <tr style=\"text-align: right;\">\n",
       "      <th></th>\n",
       "      <th>name</th>\n",
       "      <th>shape</th>\n",
       "      <th>x</th>\n",
       "      <th>y</th>\n",
       "      <th>Perimetro</th>\n",
       "    </tr>\n",
       "  </thead>\n",
       "  <tbody>\n",
       "    <tr>\n",
       "      <th>0</th>\n",
       "      <td>name1</td>\n",
       "      <td>2x4</td>\n",
       "      <td>2</td>\n",
       "      <td>4</td>\n",
       "      <td>12</td>\n",
       "    </tr>\n",
       "    <tr>\n",
       "      <th>1</th>\n",
       "      <td>name2</td>\n",
       "      <td>5x6</td>\n",
       "      <td>5</td>\n",
       "      <td>6</td>\n",
       "      <td>22</td>\n",
       "    </tr>\n",
       "    <tr>\n",
       "      <th>2</th>\n",
       "      <td>name3</td>\n",
       "      <td>7x8</td>\n",
       "      <td>7</td>\n",
       "      <td>8</td>\n",
       "      <td>30</td>\n",
       "    </tr>\n",
       "    <tr>\n",
       "      <th>3</th>\n",
       "      <td>name4</td>\n",
       "      <td>9x10</td>\n",
       "      <td>9</td>\n",
       "      <td>10</td>\n",
       "      <td>38</td>\n",
       "    </tr>\n",
       "  </tbody>\n",
       "</table>\n",
       "</div>"
      ],
      "text/plain": [
       "    name shape  x   y  Perimetro\n",
       "0  name1   2x4  2   4         12\n",
       "1  name2   5x6  5   6         22\n",
       "2  name3   7x8  7   8         30\n",
       "3  name4  9x10  9  10         38"
      ]
     },
     "execution_count": 78,
     "metadata": {},
     "output_type": "execute_result"
    }
   ],
   "source": [
    "df"
   ]
  },
  {
   "cell_type": "markdown",
   "id": "8f4cbdd1",
   "metadata": {},
   "source": [
    "Tra le funzioni basilari per la statistica utiliziamo quello che calcola la media e calcoliamo il valore medio del perimetro"
   ]
  },
  {
   "cell_type": "code",
   "execution_count": 79,
   "id": "fb3fd80c",
   "metadata": {},
   "outputs": [
    {
     "data": {
      "text/plain": [
       "25.5"
      ]
     },
     "execution_count": 79,
     "metadata": {},
     "output_type": "execute_result"
    }
   ],
   "source": [
    "df['Perimetro'].mean()"
   ]
  },
  {
   "cell_type": "markdown",
   "id": "da3d61c9",
   "metadata": {},
   "source": [
    "Ora selezioniamo i dati che hanno un perimetro superiore alla media"
   ]
  },
  {
   "cell_type": "markdown",
   "id": "82a472c1",
   "metadata": {},
   "source": [
    "## Metodo 1"
   ]
  },
  {
   "cell_type": "code",
   "execution_count": 80,
   "id": "941befbc",
   "metadata": {},
   "outputs": [],
   "source": [
    "d2 = df['Perimetro'].loc[lambda x: x > df['Perimetro'].mean()]"
   ]
  },
  {
   "cell_type": "code",
   "execution_count": 81,
   "id": "79b4aead",
   "metadata": {},
   "outputs": [
    {
     "data": {
      "text/plain": [
       "2    30\n",
       "3    38\n",
       "Name: Perimetro, dtype: int64"
      ]
     },
     "execution_count": 81,
     "metadata": {},
     "output_type": "execute_result"
    }
   ],
   "source": [
    "d2"
   ]
  },
  {
   "cell_type": "markdown",
   "id": "5cb60276",
   "metadata": {},
   "source": [
    "Con *loc* ci ritorna il valore dell'indice e del perimetro degli elementi che soddisfano la condizione"
   ]
  },
  {
   "cell_type": "markdown",
   "id": "c13984a9",
   "metadata": {},
   "source": [
    "## Metodo 2"
   ]
  },
  {
   "cell_type": "code",
   "execution_count": 82,
   "id": "053a707b",
   "metadata": {},
   "outputs": [],
   "source": [
    "d2 = df['Perimetro'] > df['Perimetro'].mean()"
   ]
  },
  {
   "cell_type": "code",
   "execution_count": 83,
   "id": "17d94262",
   "metadata": {},
   "outputs": [
    {
     "data": {
      "text/plain": [
       "0    False\n",
       "1    False\n",
       "2     True\n",
       "3     True\n",
       "Name: Perimetro, dtype: bool"
      ]
     },
     "execution_count": 83,
     "metadata": {},
     "output_type": "execute_result"
    }
   ],
   "source": [
    "d2"
   ]
  },
  {
   "cell_type": "markdown",
   "id": "0d11f9d8",
   "metadata": {},
   "source": [
    "In questo caso ci ritorna una mappa booleana del nostro DataFrame "
   ]
  },
  {
   "cell_type": "markdown",
   "id": "9d535e23",
   "metadata": {},
   "source": [
    "## Metodo 3"
   ]
  },
  {
   "cell_type": "code",
   "execution_count": 84,
   "id": "a3198528",
   "metadata": {},
   "outputs": [],
   "source": [
    "df2 = df[(df['x'] > df['x'].mean())]"
   ]
  },
  {
   "cell_type": "code",
   "execution_count": 85,
   "id": "de5dc7bf",
   "metadata": {},
   "outputs": [
    {
     "data": {
      "text/html": [
       "<div>\n",
       "<style scoped>\n",
       "    .dataframe tbody tr th:only-of-type {\n",
       "        vertical-align: middle;\n",
       "    }\n",
       "\n",
       "    .dataframe tbody tr th {\n",
       "        vertical-align: top;\n",
       "    }\n",
       "\n",
       "    .dataframe thead th {\n",
       "        text-align: right;\n",
       "    }\n",
       "</style>\n",
       "<table border=\"1\" class=\"dataframe\">\n",
       "  <thead>\n",
       "    <tr style=\"text-align: right;\">\n",
       "      <th></th>\n",
       "      <th>name</th>\n",
       "      <th>shape</th>\n",
       "      <th>x</th>\n",
       "      <th>y</th>\n",
       "      <th>Perimetro</th>\n",
       "    </tr>\n",
       "  </thead>\n",
       "  <tbody>\n",
       "    <tr>\n",
       "      <th>2</th>\n",
       "      <td>name3</td>\n",
       "      <td>7x8</td>\n",
       "      <td>7</td>\n",
       "      <td>8</td>\n",
       "      <td>30</td>\n",
       "    </tr>\n",
       "    <tr>\n",
       "      <th>3</th>\n",
       "      <td>name4</td>\n",
       "      <td>9x10</td>\n",
       "      <td>9</td>\n",
       "      <td>10</td>\n",
       "      <td>38</td>\n",
       "    </tr>\n",
       "  </tbody>\n",
       "</table>\n",
       "</div>"
      ],
      "text/plain": [
       "    name shape  x   y  Perimetro\n",
       "2  name3   7x8  7   8         30\n",
       "3  name4  9x10  9  10         38"
      ]
     },
     "execution_count": 85,
     "metadata": {},
     "output_type": "execute_result"
    }
   ],
   "source": [
    "df2"
   ]
  },
  {
   "cell_type": "markdown",
   "id": "85a7f938",
   "metadata": {},
   "source": [
    "In questo caso ci ritorna un nuovo DataFrame con solo i valori che soffisfano la nostra condizione"
   ]
  },
  {
   "cell_type": "markdown",
   "id": "7fd838d9",
   "metadata": {},
   "source": [
    "## Metodo 4"
   ]
  },
  {
   "cell_type": "code",
   "execution_count": 86,
   "id": "88ea1f68",
   "metadata": {},
   "outputs": [],
   "source": [
    "df3 = df.query('Perimetro > Perimetro.mean()')"
   ]
  },
  {
   "cell_type": "code",
   "execution_count": 87,
   "id": "431d599a",
   "metadata": {},
   "outputs": [
    {
     "data": {
      "text/html": [
       "<div>\n",
       "<style scoped>\n",
       "    .dataframe tbody tr th:only-of-type {\n",
       "        vertical-align: middle;\n",
       "    }\n",
       "\n",
       "    .dataframe tbody tr th {\n",
       "        vertical-align: top;\n",
       "    }\n",
       "\n",
       "    .dataframe thead th {\n",
       "        text-align: right;\n",
       "    }\n",
       "</style>\n",
       "<table border=\"1\" class=\"dataframe\">\n",
       "  <thead>\n",
       "    <tr style=\"text-align: right;\">\n",
       "      <th></th>\n",
       "      <th>name</th>\n",
       "      <th>shape</th>\n",
       "      <th>x</th>\n",
       "      <th>y</th>\n",
       "      <th>Perimetro</th>\n",
       "    </tr>\n",
       "  </thead>\n",
       "  <tbody>\n",
       "    <tr>\n",
       "      <th>2</th>\n",
       "      <td>name3</td>\n",
       "      <td>7x8</td>\n",
       "      <td>7</td>\n",
       "      <td>8</td>\n",
       "      <td>30</td>\n",
       "    </tr>\n",
       "    <tr>\n",
       "      <th>3</th>\n",
       "      <td>name4</td>\n",
       "      <td>9x10</td>\n",
       "      <td>9</td>\n",
       "      <td>10</td>\n",
       "      <td>38</td>\n",
       "    </tr>\n",
       "  </tbody>\n",
       "</table>\n",
       "</div>"
      ],
      "text/plain": [
       "    name shape  x   y  Perimetro\n",
       "2  name3   7x8  7   8         30\n",
       "3  name4  9x10  9  10         38"
      ]
     },
     "execution_count": 87,
     "metadata": {},
     "output_type": "execute_result"
    }
   ],
   "source": [
    "df3"
   ]
  },
  {
   "cell_type": "markdown",
   "id": "e214858e",
   "metadata": {},
   "source": [
    "## Combiniamo le condizioni"
   ]
  },
  {
   "cell_type": "markdown",
   "id": "091d97e0",
   "metadata": {},
   "source": [
    "In questo caso usiamo il metodo 4, per semplicità"
   ]
  },
  {
   "cell_type": "code",
   "execution_count": 88,
   "id": "8f544ac4",
   "metadata": {},
   "outputs": [],
   "source": [
    "df3 = df.query('Perimetro > Perimetro.mean() & y > 9')"
   ]
  },
  {
   "cell_type": "code",
   "execution_count": 89,
   "id": "130249f6",
   "metadata": {},
   "outputs": [
    {
     "data": {
      "text/html": [
       "<div>\n",
       "<style scoped>\n",
       "    .dataframe tbody tr th:only-of-type {\n",
       "        vertical-align: middle;\n",
       "    }\n",
       "\n",
       "    .dataframe tbody tr th {\n",
       "        vertical-align: top;\n",
       "    }\n",
       "\n",
       "    .dataframe thead th {\n",
       "        text-align: right;\n",
       "    }\n",
       "</style>\n",
       "<table border=\"1\" class=\"dataframe\">\n",
       "  <thead>\n",
       "    <tr style=\"text-align: right;\">\n",
       "      <th></th>\n",
       "      <th>name</th>\n",
       "      <th>shape</th>\n",
       "      <th>x</th>\n",
       "      <th>y</th>\n",
       "      <th>Perimetro</th>\n",
       "    </tr>\n",
       "  </thead>\n",
       "  <tbody>\n",
       "    <tr>\n",
       "      <th>3</th>\n",
       "      <td>name4</td>\n",
       "      <td>9x10</td>\n",
       "      <td>9</td>\n",
       "      <td>10</td>\n",
       "      <td>38</td>\n",
       "    </tr>\n",
       "  </tbody>\n",
       "</table>\n",
       "</div>"
      ],
      "text/plain": [
       "    name shape  x   y  Perimetro\n",
       "3  name4  9x10  9  10         38"
      ]
     },
     "execution_count": 89,
     "metadata": {},
     "output_type": "execute_result"
    }
   ],
   "source": [
    "df3 "
   ]
  },
  {
   "cell_type": "markdown",
   "id": "418aeb4d",
   "metadata": {},
   "source": [
    "## Salvataggio dati su file"
   ]
  },
  {
   "cell_type": "markdown",
   "id": "1a77fc2d",
   "metadata": {},
   "source": [
    "Ora salviamo il nostro file in formato **CSV**"
   ]
  },
  {
   "cell_type": "code",
   "execution_count": 90,
   "id": "91a0d068",
   "metadata": {},
   "outputs": [],
   "source": [
    "df.to_csv('../data/myDF.csv', index = False)"
   ]
  },
  {
   "cell_type": "markdown",
   "id": "21829c99",
   "metadata": {},
   "source": [
    "In formato **XLSX**. In questo caso è necessario installare il package *openpyxl*"
   ]
  },
  {
   "cell_type": "code",
   "execution_count": 94,
   "id": "23d9c097",
   "metadata": {},
   "outputs": [],
   "source": [
    "df.to_excel('../data/myDF.xlsx', index = False, engine='openpyxl')"
   ]
  },
  {
   "cell_type": "markdown",
   "id": "f70cb60a",
   "metadata": {},
   "source": [
    "In formato **JSON**"
   ]
  },
  {
   "cell_type": "code",
   "execution_count": 98,
   "id": "807b803c",
   "metadata": {},
   "outputs": [],
   "source": [
    "df.to_json('../data/myDF.json', index = False, orient='split')"
   ]
  },
  {
   "cell_type": "markdown",
   "id": "434bcaef",
   "metadata": {},
   "source": [
    "In un DataBase **SQLlite**. In questo caso è necessario installare il package *sqlalchemy*"
   ]
  },
  {
   "cell_type": "code",
   "execution_count": 104,
   "id": "0d561034",
   "metadata": {},
   "outputs": [],
   "source": [
    "from sqlalchemy import create_engine\n",
    "from sqlalchemy.types import Integer\n",
    "engine = create_engine('sqlite:///../data/myDF.sqlite', echo=False)\n",
    "df.to_sql('myDataFrame', con=engine, index=False,dtype={\"x\": Integer(),\"y\": Integer(),\"Perimetro\": Integer()})"
   ]
  },
  {
   "cell_type": "code",
   "execution_count": null,
   "id": "163d41e7",
   "metadata": {},
   "outputs": [],
   "source": []
  },
  {
   "cell_type": "code",
   "execution_count": null,
   "id": "b61ea1df",
   "metadata": {},
   "outputs": [],
   "source": []
  }
 ],
 "metadata": {
  "kernelspec": {
   "display_name": "Python 3",
   "language": "python",
   "name": "python3"
  },
  "language_info": {
   "codemirror_mode": {
    "name": "ipython",
    "version": 3
   },
   "file_extension": ".py",
   "mimetype": "text/x-python",
   "name": "python",
   "nbconvert_exporter": "python",
   "pygments_lexer": "ipython3",
   "version": "3.9.1"
  }
 },
 "nbformat": 4,
 "nbformat_minor": 5
}
