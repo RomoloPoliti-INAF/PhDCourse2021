{
 "cells": [
  {
   "cell_type": "code",
   "execution_count": null,
   "id": "90d127f5-46c7-41b2-a58d-3e66057aef15",
   "metadata": {},
   "outputs": [],
   "source": [
    "import pandas as pd\n",
    "import matplotlib.pyplot as plt"
   ]
  },
  {
   "cell_type": "markdown",
   "id": "7bd8ec5d-f06e-420e-9c3f-d447ebfd198b",
   "metadata": {},
   "source": [
    "Essendo il file troppo grande lo scarico rirettamente dalla sorgente con il modulo **wget** (clone del comando wget di shell)"
   ]
  },
  {
   "cell_type": "code",
   "execution_count": null,
   "id": "9ff62765-c970-4735-bb70-6c5f0e5b9e94",
   "metadata": {},
   "outputs": [],
   "source": [
    "import wget\n",
    "url = 'http://eforexcel.com/wp/wp-content/uploads/2020/09/5m-Sales-Records.7z'\n",
    "filename = wget.download(url,'../data')"
   ]
  },
  {
   "cell_type": "code",
   "execution_count": null,
   "id": "30df2103-2c48-467a-bebf-66db2f79a163",
   "metadata": {},
   "outputs": [],
   "source": [
    "import py7zr\n",
    "with py7zr.SevenZipFile('../data/5m-Sales-Records.7z', mode='r') as z:\n",
    "    z.extractall(path='../data')"
   ]
  },
  {
   "cell_type": "code",
   "execution_count": null,
   "id": "ae0814ba-057b-424d-98df-d15d153caba5",
   "metadata": {},
   "outputs": [],
   "source": [
    "df=pd.read_csv('../data/5m Sales Records.csv')"
   ]
  },
  {
   "cell_type": "code",
   "execution_count": null,
   "id": "9603bac7-e0e6-459c-b39a-8770ed24c27c",
   "metadata": {},
   "outputs": [],
   "source": [
    "len(df.index)"
   ]
  },
  {
   "cell_type": "code",
   "execution_count": null,
   "id": "1aa640e2-04bf-4559-b65c-a155b006586f",
   "metadata": {},
   "outputs": [],
   "source": [
    "df"
   ]
  },
  {
   "cell_type": "code",
   "execution_count": null,
   "id": "7bbcf2eb-1009-4311-b980-aa4b88ad4439",
   "metadata": {},
   "outputs": [],
   "source": [
    "italy=df[df['Country']== 'Italy']"
   ]
  },
  {
   "cell_type": "code",
   "execution_count": null,
   "id": "80293d68-bf10-4b52-a899-122864412918",
   "metadata": {},
   "outputs": [],
   "source": [
    "italy"
   ]
  },
  {
   "cell_type": "code",
   "execution_count": null,
   "id": "7cbd1cd1-1b41-470e-911e-0ca8fb8d83bf",
   "metadata": {},
   "outputs": [],
   "source": [
    "italy['Item Type'].unique()"
   ]
  },
  {
   "cell_type": "code",
   "execution_count": null,
   "id": "b8e22ae5-d015-4550-98fe-ced98a01164c",
   "metadata": {},
   "outputs": [],
   "source": [
    "italyMeat=italy[italy['Item Type']== 'Meat']"
   ]
  },
  {
   "cell_type": "code",
   "execution_count": null,
   "id": "858bf912-277d-47a3-a25d-b513ec899ff4",
   "metadata": {},
   "outputs": [],
   "source": [
    "italyMeat.plot(x='Order Date',y='Units Sold',kind='bar')"
   ]
  },
  {
   "cell_type": "code",
   "execution_count": null,
   "id": "2ab84099-9a78-45d4-891d-a0195af60791",
   "metadata": {},
   "outputs": [],
   "source": [
    "italyMeat"
   ]
  },
  {
   "cell_type": "code",
   "execution_count": null,
   "id": "3b858ebb-9bd7-4b06-8dfe-422cb8fbbf9e",
   "metadata": {},
   "outputs": [],
   "source": []
  }
 ],
 "metadata": {
  "kernelspec": {
   "display_name": "Python 3",
   "language": "python",
   "name": "python3"
  },
  "language_info": {
   "codemirror_mode": {
    "name": "ipython",
    "version": 3
   },
   "file_extension": ".py",
   "mimetype": "text/x-python",
   "name": "python",
   "nbconvert_exporter": "python",
   "pygments_lexer": "ipython3",
   "version": "3.9.1"
  }
 },
 "nbformat": 4,
 "nbformat_minor": 5
}
