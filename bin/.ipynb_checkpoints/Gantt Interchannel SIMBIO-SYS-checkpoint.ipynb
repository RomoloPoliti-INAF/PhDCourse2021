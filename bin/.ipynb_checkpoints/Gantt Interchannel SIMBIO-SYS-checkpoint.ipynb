{
 "cells": [
  {
   "cell_type": "code",
   "execution_count": null,
   "id": "7ddefe87",
   "metadata": {},
   "outputs": [],
   "source": [
    "import pandas as pd\n",
    "import plotly.express as px"
   ]
  },
  {
   "cell_type": "code",
   "execution_count": null,
   "id": "f6bf68a5",
   "metadata": {},
   "outputs": [],
   "source": [
    "vihi=pd.read_csv('../data/VIHI.csv')\n",
    "stc=pd.read_csv('../data/STC.csv')\n",
    "hric=pd.read_csv('../data/HRIC.csv')"
   ]
  },
  {
   "cell_type": "code",
   "execution_count": null,
   "id": "bf7e6d65",
   "metadata": {},
   "outputs": [],
   "source": [
    "vihi['Channel']='VIHI'\n",
    "stc['Channel']='STC'\n",
    "hric['Channel']='HRIC'"
   ]
  },
  {
   "cell_type": "code",
   "execution_count": null,
   "id": "25f64834",
   "metadata": {},
   "outputs": [],
   "source": [
    "simbio=hric\n",
    "simbio=simbio.append(stc)\n",
    "simbio=simbio.append(vihi)"
   ]
  },
  {
   "cell_type": "code",
   "execution_count": null,
   "id": "2ba9efca",
   "metadata": {},
   "outputs": [],
   "source": [
    "#simbio"
   ]
  },
  {
   "cell_type": "code",
   "execution_count": null,
   "id": "5941e42e",
   "metadata": {},
   "outputs": [],
   "source": [
    "simbio['Label']=simbio['SSC'].apply(lambda x: f\"SSC: {x}\")"
   ]
  },
  {
   "cell_type": "code",
   "execution_count": null,
   "id": "1ffc74a3",
   "metadata": {},
   "outputs": [],
   "source": [
    "#simbio"
   ]
  },
  {
   "cell_type": "code",
   "execution_count": null,
   "id": "11ac3787",
   "metadata": {},
   "outputs": [],
   "source": [
    "fig = px.timeline(simbio, x_start=\"StartTime\", x_end=\"StopTime\", y=\"Channel\", color=\"Channel\",text=\"Label\")"
   ]
  },
  {
   "cell_type": "code",
   "execution_count": null,
   "id": "eaea9dda",
   "metadata": {},
   "outputs": [],
   "source": [
    "fig.show()"
   ]
  }
 ],
 "metadata": {
  "kernelspec": {
   "display_name": "Python 3",
   "language": "python",
   "name": "python3"
  },
  "language_info": {
   "codemirror_mode": {
    "name": "ipython",
    "version": 3
   },
   "file_extension": ".py",
   "mimetype": "text/x-python",
   "name": "python",
   "nbconvert_exporter": "python",
   "pygments_lexer": "ipython3",
   "version": "3.9.1"
  }
 },
 "nbformat": 4,
 "nbformat_minor": 5
}