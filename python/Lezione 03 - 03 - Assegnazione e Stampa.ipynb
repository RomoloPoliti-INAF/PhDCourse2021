{
 "cells": [
  {
   "cell_type": "markdown",
   "id": "add3420c",
   "metadata": {},
   "source": [
    "# Assegnazione Variabili"
   ]
  },
  {
   "cell_type": "code",
   "execution_count": null,
   "id": "a8f134e2",
   "metadata": {},
   "outputs": [],
   "source": [
    "exVar1 = \"Antonio\""
   ]
  },
  {
   "cell_type": "code",
   "execution_count": null,
   "id": "91063ad9",
   "metadata": {},
   "outputs": [],
   "source": [
    "exVar2 = \"Fulvio\""
   ]
  },
  {
   "cell_type": "code",
   "execution_count": null,
   "id": "56758e76",
   "metadata": {},
   "outputs": [],
   "source": [
    "exVar1, exVar2 = \"Antonio\", \"Fulvio\""
   ]
  },
  {
   "cell_type": "markdown",
   "id": "a63933bc",
   "metadata": {},
   "source": [
    "# Stampa di stringhe"
   ]
  },
  {
   "cell_type": "code",
   "execution_count": null,
   "id": "b594f8dc",
   "metadata": {},
   "outputs": [],
   "source": [
    "print(\"Hello, World!\")"
   ]
  },
  {
   "cell_type": "code",
   "execution_count": null,
   "id": "3c0a8579",
   "metadata": {},
   "outputs": [],
   "source": [
    "print(\"Hello \" + exVar1)"
   ]
  },
  {
   "cell_type": "code",
   "execution_count": null,
   "id": "8bb2433d",
   "metadata": {},
   "outputs": [],
   "source": [
    "print(f\"Hello {exVar1}\")"
   ]
  },
  {
   "cell_type": "code",
   "execution_count": null,
   "id": "77c9f8ff",
   "metadata": {},
   "outputs": [],
   "source": [
    "print(f\"Hello {exVar1.upper()}\")"
   ]
  },
  {
   "cell_type": "code",
   "execution_count": null,
   "id": "687447b4",
   "metadata": {},
   "outputs": [],
   "source": [
    "print(f\"Hello {exVar1} and {exVar2}\")"
   ]
  },
  {
   "cell_type": "code",
   "execution_count": null,
   "id": "0398e2a1",
   "metadata": {},
   "outputs": [],
   "source": [
    "print(\"Hello {} and {}\".format(exVar1,exVar2))"
   ]
  },
  {
   "cell_type": "code",
   "execution_count": null,
   "id": "f12c8be9",
   "metadata": {},
   "outputs": [],
   "source": [
    "print(\"Hello {1} and {0}\".format(exVar1,exVar2))"
   ]
  },
  {
   "cell_type": "code",
   "execution_count": null,
   "id": "07db94bc",
   "metadata": {},
   "outputs": [],
   "source": [
    "print(\"test | {} | {}\".format(exVar1,exVar2))"
   ]
  },
  {
   "cell_type": "code",
   "execution_count": null,
   "id": "29a86889",
   "metadata": {},
   "outputs": [],
   "source": [
    "print(\"test | {:15} | {}\".format(exVar1,exVar2))"
   ]
  },
  {
   "cell_type": "code",
   "execution_count": null,
   "id": "0a0e6a89",
   "metadata": {},
   "outputs": [],
   "source": [
    "print(\"test | {:>15} | {}\".format(exVar1,exVar2))"
   ]
  },
  {
   "cell_type": "code",
   "execution_count": null,
   "id": "59f494c5",
   "metadata": {},
   "outputs": [],
   "source": [
    "print(\"test | {:^15} | {}\".format(exVar1,exVar2))"
   ]
  },
  {
   "cell_type": "code",
   "execution_count": null,
   "id": "39fb3415",
   "metadata": {},
   "outputs": [],
   "source": [
    "print(\"test | {:-^15} | {}\".format(exVar1,exVar2))"
   ]
  },
  {
   "cell_type": "code",
   "execution_count": null,
   "id": "dc02dfcd",
   "metadata": {},
   "outputs": [],
   "source": [
    "print(\"test | {1:-^15} | {0}\".format(exVar1,exVar2))"
   ]
  },
  {
   "cell_type": "code",
   "execution_count": null,
   "id": "8f191fb4",
   "metadata": {},
   "outputs": [],
   "source": [
    "print(\"{:3d}\\n{:3d}\".format(1,10))"
   ]
  },
  {
   "cell_type": "code",
   "execution_count": null,
   "id": "84777491",
   "metadata": {},
   "outputs": [],
   "source": []
  }
 ],
 "metadata": {
  "kernelspec": {
   "display_name": "Python 3",
   "language": "python",
   "name": "python3"
  },
  "language_info": {
   "codemirror_mode": {
    "name": "ipython",
    "version": 3
   },
   "file_extension": ".py",
   "mimetype": "text/x-python",
   "name": "python",
   "nbconvert_exporter": "python",
   "pygments_lexer": "ipython3",
   "version": "3.9.1"
  }
 },
 "nbformat": 4,
 "nbformat_minor": 5
}
