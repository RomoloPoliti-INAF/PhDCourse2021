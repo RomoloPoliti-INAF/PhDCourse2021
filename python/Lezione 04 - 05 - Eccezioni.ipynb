{
 "cells": [
  {
   "cell_type": "markdown",
   "id": "67d68e56",
   "metadata": {},
   "source": [
    "# Eccezioni"
   ]
  },
  {
   "cell_type": "code",
   "execution_count": 2,
   "id": "eff09868",
   "metadata": {},
   "outputs": [
    {
     "ename": "FileNotFoundError",
     "evalue": "[Errno 2] No such file or directory: 'example06.txt'",
     "output_type": "error",
     "traceback": [
      "\u001b[0;31m---------------------------------------------------------------------------\u001b[0m",
      "\u001b[0;31mFileNotFoundError\u001b[0m                         Traceback (most recent call last)",
      "\u001b[0;32m<ipython-input-2-aae0772a9e7a>\u001b[0m in \u001b[0;36m<module>\u001b[0;34m\u001b[0m\n\u001b[0;32m----> 1\u001b[0;31m \u001b[0mf\u001b[0m\u001b[0;34m=\u001b[0m\u001b[0mopen\u001b[0m\u001b[0;34m(\u001b[0m\u001b[0;34m\"example06.txt\"\u001b[0m\u001b[0;34m,\u001b[0m\u001b[0;34m'r'\u001b[0m\u001b[0;34m)\u001b[0m\u001b[0;34m\u001b[0m\u001b[0;34m\u001b[0m\u001b[0m\n\u001b[0m",
      "\u001b[0;31mFileNotFoundError\u001b[0m: [Errno 2] No such file or directory: 'example06.txt'"
     ]
    }
   ],
   "source": [
    "f=open(\"example06.txt\",'r')"
   ]
  },
  {
   "cell_type": "code",
   "execution_count": 1,
   "id": "b01605fd",
   "metadata": {},
   "outputs": [
    {
     "name": "stdout",
     "output_type": "stream",
     "text": [
      "Il file non esiste\n"
     ]
    }
   ],
   "source": [
    "try:\n",
    "    f = open('example06.txt','r')\n",
    "except:\n",
    "    print(\"Il file non esiste\")"
   ]
  },
  {
   "cell_type": "code",
   "execution_count": 4,
   "id": "d2459cae",
   "metadata": {},
   "outputs": [
    {
     "name": "stdout",
     "output_type": "stream",
     "text": [
      "Il file non esiste\n",
      "Terminato\n"
     ]
    }
   ],
   "source": [
    "try:\n",
    "    f = open('example06.txt','r')\n",
    "except:\n",
    "    print(\"Il file non esiste\")\n",
    "else:\n",
    "    lines = f.readlines()\n",
    "    for line in lines:\n",
    "        print(line.strip())\n",
    "    f.close()\n",
    "finally:\n",
    "    print(\"Terminato\")"
   ]
  },
  {
   "cell_type": "code",
   "execution_count": 5,
   "id": "ef39d7e9",
   "metadata": {},
   "outputs": [
    {
     "ename": "NameError",
     "evalue": "name 'pint' is not defined",
     "output_type": "error",
     "traceback": [
      "\u001b[0;31m---------------------------------------------------------------------------\u001b[0m",
      "\u001b[0;31mNameError\u001b[0m                                 Traceback (most recent call last)",
      "\u001b[0;32m<ipython-input-5-b1c026b50a87>\u001b[0m in \u001b[0;36m<module>\u001b[0;34m\u001b[0m\n\u001b[0;32m----> 1\u001b[0;31m \u001b[0mpint\u001b[0m\u001b[0;34m(\u001b[0m\u001b[0;34m\"Ciao\"\u001b[0m\u001b[0;34m)\u001b[0m\u001b[0;34m\u001b[0m\u001b[0;34m\u001b[0m\u001b[0m\n\u001b[0m",
      "\u001b[0;31mNameError\u001b[0m: name 'pint' is not defined"
     ]
    }
   ],
   "source": [
    "pint(\"Ciao\")"
   ]
  },
  {
   "cell_type": "code",
   "execution_count": 6,
   "id": "b7fb6e71",
   "metadata": {},
   "outputs": [
    {
     "name": "stdout",
     "output_type": "stream",
     "text": [
      "Errore di sintassi\n"
     ]
    }
   ],
   "source": [
    "try:\n",
    "    pint(\"Ciao\")\n",
    "except NameError:\n",
    "    print(\"Errore di sintassi\")"
   ]
  },
  {
   "cell_type": "code",
   "execution_count": 7,
   "id": "d177dbcd",
   "metadata": {},
   "outputs": [
    {
     "ename": "ZeroDivisionError",
     "evalue": "division by zero",
     "output_type": "error",
     "traceback": [
      "\u001b[0;31m---------------------------------------------------------------------------\u001b[0m",
      "\u001b[0;31mZeroDivisionError\u001b[0m                         Traceback (most recent call last)",
      "\u001b[0;32m<ipython-input-7-0ac046aaffde>\u001b[0m in \u001b[0;36m<module>\u001b[0;34m\u001b[0m\n\u001b[1;32m      1\u001b[0m \u001b[0;32mtry\u001b[0m\u001b[0;34m:\u001b[0m\u001b[0;34m\u001b[0m\u001b[0;34m\u001b[0m\u001b[0m\n\u001b[0;32m----> 2\u001b[0;31m     \u001b[0mprint\u001b[0m\u001b[0;34m(\u001b[0m\u001b[0;34mf\"Ciao {2/0}\"\u001b[0m\u001b[0;34m)\u001b[0m\u001b[0;34m\u001b[0m\u001b[0;34m\u001b[0m\u001b[0m\n\u001b[0m\u001b[1;32m      3\u001b[0m \u001b[0;32mexcept\u001b[0m \u001b[0mNameError\u001b[0m\u001b[0;34m:\u001b[0m\u001b[0;34m\u001b[0m\u001b[0;34m\u001b[0m\u001b[0m\n\u001b[1;32m      4\u001b[0m     \u001b[0mprint\u001b[0m\u001b[0;34m(\u001b[0m\u001b[0;34m\"Errore di sintassi\"\u001b[0m\u001b[0;34m)\u001b[0m\u001b[0;34m\u001b[0m\u001b[0;34m\u001b[0m\u001b[0m\n",
      "\u001b[0;31mZeroDivisionError\u001b[0m: division by zero"
     ]
    }
   ],
   "source": [
    "try:\n",
    "    print(f\"Ciao {2/0}\")\n",
    "except NameError:\n",
    "    print(\"Errore di sintassi\")"
   ]
  },
  {
   "cell_type": "code",
   "execution_count": 8,
   "id": "6ee2c5f2",
   "metadata": {},
   "outputs": [
    {
     "name": "stdout",
     "output_type": "stream",
     "text": [
      "Errore di divisione per 0\n"
     ]
    }
   ],
   "source": [
    "try:\n",
    "    print(f\"Ciao {2/0}\")\n",
    "except NameError:\n",
    "    print(\"Errore di sintassi\")\n",
    "except ZeroDivisionError:\n",
    "    print(\"Errore di divisione per 0\")"
   ]
  },
  {
   "cell_type": "markdown",
   "id": "28367320",
   "metadata": {},
   "source": [
    "# Operatori di contesto"
   ]
  },
  {
   "cell_type": "code",
   "execution_count": 9,
   "id": "dbc86149",
   "metadata": {},
   "outputs": [
    {
     "name": "stdout",
     "output_type": "stream",
     "text": [
      "questo è un esempio\n",
      "test  |     Fulvio      |     Antonio\n",
      "00001 |       No        |       ok\n"
     ]
    }
   ],
   "source": [
    "with open('example05.txt','r') as f:\n",
    "    lines = f.readlines()\n",
    "    for line in lines:\n",
    "        print(line.strip())"
   ]
  },
  {
   "cell_type": "code",
   "execution_count": null,
   "id": "135db6f9",
   "metadata": {},
   "outputs": [],
   "source": [
    "try:\n",
    "    f = open('example06.txt','r')\n",
    "    lines = f.readlines()\n",
    "    for line in lines:\n",
    "        print(line.strip())\n",
    "except:\n",
    "    hit_except = True\n",
    "    print(\"Il file non esiste\")\n",
    "    exit()\n",
    "finally:\n",
    "    if not hit_except:\n",
    "        f.close()        \n",
    "    print(\"Terminato\")"
   ]
  },
  {
   "cell_type": "code",
   "execution_count": null,
   "id": "3714c03e",
   "metadata": {},
   "outputs": [],
   "source": []
  }
 ],
 "metadata": {
  "kernelspec": {
   "display_name": "Python 3",
   "language": "python",
   "name": "python3"
  },
  "language_info": {
   "codemirror_mode": {
    "name": "ipython",
    "version": 3
   },
   "file_extension": ".py",
   "mimetype": "text/x-python",
   "name": "python",
   "nbconvert_exporter": "python",
   "pygments_lexer": "ipython3",
   "version": "3.9.5"
  }
 },
 "nbformat": 4,
 "nbformat_minor": 5
}
