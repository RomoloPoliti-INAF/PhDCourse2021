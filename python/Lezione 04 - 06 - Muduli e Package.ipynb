{
 "cells": [
  {
   "cell_type": "code",
   "execution_count": null,
   "id": "b73296f1",
   "metadata": {},
   "outputs": [],
   "source": [
    "import example07"
   ]
  },
  {
   "cell_type": "code",
   "execution_count": null,
   "id": "ce666a14",
   "metadata": {},
   "outputs": [],
   "source": [
    "dir(example07)"
   ]
  },
  {
   "cell_type": "code",
   "execution_count": null,
   "id": "0ec8d9d1",
   "metadata": {},
   "outputs": [],
   "source": [
    "example07.__doc__"
   ]
  },
  {
   "cell_type": "code",
   "execution_count": null,
   "id": "6ad09007",
   "metadata": {},
   "outputs": [],
   "source": [
    "example07.__dict__"
   ]
  },
  {
   "cell_type": "code",
   "execution_count": null,
   "id": "13f99057",
   "metadata": {},
   "outputs": [],
   "source": [
    "example07.myFunct()"
   ]
  },
  {
   "cell_type": "code",
   "execution_count": null,
   "id": "566da991",
   "metadata": {},
   "outputs": [],
   "source": [
    "import packExample.example08"
   ]
  },
  {
   "cell_type": "code",
   "execution_count": null,
   "id": "d1e25a73",
   "metadata": {},
   "outputs": [],
   "source": [
    "dir(packExample)"
   ]
  },
  {
   "cell_type": "code",
   "execution_count": null,
   "id": "c0447e39",
   "metadata": {},
   "outputs": [],
   "source": [
    "dir(packExample.example08)"
   ]
  },
  {
   "cell_type": "code",
   "execution_count": null,
   "id": "0113eda5",
   "metadata": {},
   "outputs": [],
   "source": [
    "packExample.__dict__"
   ]
  },
  {
   "cell_type": "code",
   "execution_count": null,
   "id": "e2f5ff92",
   "metadata": {},
   "outputs": [],
   "source": [
    "packExample.example08.__dict__"
   ]
  },
  {
   "cell_type": "code",
   "execution_count": null,
   "id": "22dcd614",
   "metadata": {},
   "outputs": [],
   "source": [
    "packExample.example08.myFunct()"
   ]
  },
  {
   "cell_type": "code",
   "execution_count": null,
   "id": "dada122d",
   "metadata": {},
   "outputs": [],
   "source": [
    "import packExample.example08"
   ]
  },
  {
   "cell_type": "code",
   "execution_count": null,
   "id": "b2f8ecef",
   "metadata": {},
   "outputs": [],
   "source": [
    "packExample.example08.myFunct()"
   ]
  },
  {
   "cell_type": "code",
   "execution_count": null,
   "id": "8fc1fb71",
   "metadata": {},
   "outputs": [],
   "source": [
    "from packExample import example08"
   ]
  },
  {
   "cell_type": "code",
   "execution_count": null,
   "id": "7b919b23",
   "metadata": {},
   "outputs": [],
   "source": [
    "example08.myFunct()"
   ]
  },
  {
   "cell_type": "code",
   "execution_count": null,
   "id": "90bf364d",
   "metadata": {},
   "outputs": [],
   "source": [
    "from packExample.example08 import myFunct"
   ]
  },
  {
   "cell_type": "code",
   "execution_count": null,
   "id": "96ca1179",
   "metadata": {},
   "outputs": [],
   "source": [
    "myFunct()"
   ]
  },
  {
   "cell_type": "code",
   "execution_count": null,
   "id": "29c53010",
   "metadata": {},
   "outputs": [],
   "source": []
  }
 ],
 "metadata": {
  "kernelspec": {
   "display_name": "Python 3",
   "language": "python",
   "name": "python3"
  },
  "language_info": {
   "codemirror_mode": {
    "name": "ipython",
    "version": 3
   },
   "file_extension": ".py",
   "mimetype": "text/x-python",
   "name": "python",
   "nbconvert_exporter": "python",
   "pygments_lexer": "ipython3",
   "version": "3.9.1"
  }
 },
 "nbformat": 4,
 "nbformat_minor": 5
}
