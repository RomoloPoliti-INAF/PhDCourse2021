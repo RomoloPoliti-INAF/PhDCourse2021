{
 "cells": [
  {
   "cell_type": "code",
   "execution_count": null,
   "id": "46c45b1b",
   "metadata": {},
   "outputs": [],
   "source": [
    "def myfunc(n):\n",
    "  return lambda a: a * n"
   ]
  },
  {
   "cell_type": "code",
   "execution_count": null,
   "id": "bc4bdd6e",
   "metadata": {},
   "outputs": [],
   "source": [
    "mytripler = myfunc(3)"
   ]
  },
  {
   "cell_type": "code",
   "execution_count": null,
   "id": "c2fab0f0",
   "metadata": {},
   "outputs": [],
   "source": [
    "mytripler(7)"
   ]
  },
  {
   "cell_type": "code",
   "execution_count": null,
   "id": "32675cb7",
   "metadata": {},
   "outputs": [],
   "source": [
    "myDoubler = myfunc(2)"
   ]
  },
  {
   "cell_type": "code",
   "execution_count": null,
   "id": "e935eb72",
   "metadata": {},
   "outputs": [],
   "source": [
    "myDoubler(7)"
   ]
  },
  {
   "cell_type": "code",
   "execution_count": null,
   "id": "373111ee",
   "metadata": {},
   "outputs": [],
   "source": [
    "list_1 = [1,2,3,4,5,6,7,8,9]"
   ]
  },
  {
   "cell_type": "code",
   "execution_count": null,
   "id": "1d888091",
   "metadata": {},
   "outputs": [],
   "source": [
    "list(filter(lambda x: x%2==0, list_1))"
   ]
  },
  {
   "cell_type": "code",
   "execution_count": null,
   "id": "16e87e85",
   "metadata": {},
   "outputs": [],
   "source": [
    "cubed = map(lambda x: pow(x,3), list_1)"
   ]
  },
  {
   "cell_type": "code",
   "execution_count": null,
   "id": "744ae428",
   "metadata": {},
   "outputs": [],
   "source": [
    "list(cubed)"
   ]
  },
  {
   "cell_type": "markdown",
   "id": "b1ac7fd7",
   "metadata": {},
   "source": [
    "## Creiamo un Dataframe"
   ]
  },
  {
   "cell_type": "code",
   "execution_count": null,
   "id": "924bf6cf",
   "metadata": {},
   "outputs": [],
   "source": [
    "import pandas as pd\n",
    "df = pd.DataFrame({\n",
    "    'Name': ['Luke','Gina','Sam','Emma'],\n",
    "    'Status': ['Father', 'Mother', 'Son', 'Daughter'],\n",
    "    'Birthyear': [1976, 1984, 2013, 2016],\n",
    "})"
   ]
  },
  {
   "cell_type": "code",
   "execution_count": null,
   "id": "948c3069",
   "metadata": {},
   "outputs": [],
   "source": [
    "df"
   ]
  },
  {
   "cell_type": "markdown",
   "id": "e4e7ffb0",
   "metadata": {},
   "source": [
    "### Pandas Apply()"
   ]
  },
  {
   "cell_type": "code",
   "execution_count": null,
   "id": "a1d927c7",
   "metadata": {},
   "outputs": [],
   "source": [
    "df['age'] = df['Birthyear'].apply(lambda x: 2021-x)"
   ]
  },
  {
   "cell_type": "code",
   "execution_count": null,
   "id": "27e81282",
   "metadata": {},
   "outputs": [],
   "source": [
    "df"
   ]
  },
  {
   "cell_type": "markdown",
   "id": "536cda54",
   "metadata": {},
   "source": [
    "### Funzione filter()"
   ]
  },
  {
   "cell_type": "code",
   "execution_count": null,
   "id": "1c3e15cd",
   "metadata": {},
   "outputs": [],
   "source": [
    "list(filter(lambda x: x>18, df['age']))"
   ]
  },
  {
   "cell_type": "markdown",
   "id": "f2ba2d15",
   "metadata": {},
   "source": [
    "### Funzione map()"
   ]
  },
  {
   "cell_type": "markdown",
   "id": "b19fd5a5",
   "metadata": {},
   "source": [
    "La funzione **map()** è una funzione Python che trasforma tutti gli elementi di un elemento iterabile ***senza*** il ricorso esplicito a un ciclo for "
   ]
  },
  {
   "cell_type": "code",
   "execution_count": null,
   "id": "136c57bd",
   "metadata": {},
   "outputs": [],
   "source": [
    "df['double_age'] =  df['age'].map(lambda x: x*2)"
   ]
  },
  {
   "cell_type": "code",
   "execution_count": null,
   "id": "7caff6b7",
   "metadata": {},
   "outputs": [],
   "source": [
    "df"
   ]
  },
  {
   "cell_type": "markdown",
   "id": "b307004a",
   "metadata": {},
   "source": [
    "### Operatori condizionali"
   ]
  },
  {
   "cell_type": "code",
   "execution_count": null,
   "id": "5e7468e8",
   "metadata": {},
   "outputs": [],
   "source": [
    "df['Gender'] = df['Status'].map(lambda x: 'Male' if x=='Father' or x=='Son' else 'Female')"
   ]
  },
  {
   "cell_type": "code",
   "execution_count": null,
   "id": "2aad7e02",
   "metadata": {},
   "outputs": [],
   "source": [
    "df"
   ]
  },
  {
   "cell_type": "code",
   "execution_count": null,
   "id": "42614fa4",
   "metadata": {},
   "outputs": [],
   "source": []
  }
 ],
 "metadata": {
  "kernelspec": {
   "display_name": "Python 3",
   "language": "python",
   "name": "python3"
  },
  "language_info": {
   "codemirror_mode": {
    "name": "ipython",
    "version": 3
   },
   "file_extension": ".py",
   "mimetype": "text/x-python",
   "name": "python",
   "nbconvert_exporter": "python",
   "pygments_lexer": "ipython3",
   "version": "3.9.1"
  }
 },
 "nbformat": 4,
 "nbformat_minor": 5
}
