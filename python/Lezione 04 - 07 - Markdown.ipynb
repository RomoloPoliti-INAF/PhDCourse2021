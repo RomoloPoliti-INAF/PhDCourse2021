{
 "cells": [
  {
   "cell_type": "markdown",
   "id": "d1c298b4",
   "metadata": {},
   "source": [
    "# Header"
   ]
  },
  {
   "cell_type": "markdown",
   "id": "beeefa23",
   "metadata": {},
   "source": [
    "# Header di livello 1\n",
    "## Header di livello 2\n",
    "### Header di livello 3\n",
    "\n"
   ]
  },
  {
   "cell_type": "markdown",
   "id": "fd379221",
   "metadata": {},
   "source": [
    "# Header di livello 1\n",
    "## Header di livello 2\n",
    "### Header di livello 3"
   ]
  },
  {
   "cell_type": "markdown",
   "id": "797077c4",
   "metadata": {},
   "source": [
    "# Testo"
   ]
  },
  {
   "cell_type": "markdown",
   "id": "43410a94",
   "metadata": {},
   "source": [
    "*corsivo* \n",
    "\n",
    "_corsivo_\n",
    "\n",
    "**grassetto**\n",
    "\n",
    "***grassetto corsivo***"
   ]
  },
  {
   "cell_type": "markdown",
   "id": "d51e5557",
   "metadata": {},
   "source": [
    "*corsivo* \n",
    "\n",
    "_corsivo_\n",
    "\n",
    "**grassetto**\n",
    "\n",
    "***grassetto corsivo***"
   ]
  },
  {
   "cell_type": "markdown",
   "id": "dd331337",
   "metadata": {},
   "source": [
    "# Liste"
   ]
  },
  {
   "cell_type": "markdown",
   "id": "9cd9c577",
   "metadata": {},
   "source": [
    "+ item1\n",
    "+ item2\n",
    "    + item21\n",
    "    + item22\n",
    "+ item3"
   ]
  },
  {
   "cell_type": "markdown",
   "id": "2c08efca",
   "metadata": {},
   "source": [
    "+ item1\n",
    "+ item2\n",
    "    + item21\n",
    "    + item22\n",
    "+ item3"
   ]
  },
  {
   "cell_type": "markdown",
   "id": "3d513a1a",
   "metadata": {},
   "source": [
    "# Tabelle"
   ]
  },
  {
   "cell_type": "markdown",
   "id": "fe5f0b47",
   "metadata": {},
   "source": [
    "Colonna Lunga 1 | Colonna Lunga 2 | Colonna Lunga 3\n",
    ":--|---|:-:\n",
    "val1|val2|val3\n",
    "val1|val2|val3\n",
    "val1|val2|val3\n",
    "val1|val2|val3"
   ]
  },
  {
   "cell_type": "markdown",
   "id": "88ee636c",
   "metadata": {},
   "source": [
    "Colonna Lunga 1 | Colonna Lunga 2 | Colonna Lunga 3\n",
    ":--|---|:-:\n",
    "val1|val2|val3\n",
    "val1|val2|val3\n",
    "val1|val2|val3\n",
    "val1|val2|val3"
   ]
  }
 ],
 "metadata": {
  "kernelspec": {
   "display_name": "Python 3",
   "language": "python",
   "name": "python3"
  },
  "language_info": {
   "codemirror_mode": {
    "name": "ipython",
    "version": 3
   },
   "file_extension": ".py",
   "mimetype": "text/x-python",
   "name": "python",
   "nbconvert_exporter": "python",
   "pygments_lexer": "ipython3",
   "version": "3.9.1"
  }
 },
 "nbformat": 4,
 "nbformat_minor": 5
}
