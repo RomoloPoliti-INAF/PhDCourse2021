{
 "cells": [
  {
   "cell_type": "markdown",
   "id": "c5f89051",
   "metadata": {},
   "source": [
    "# Input and Output"
   ]
  },
  {
   "cell_type": "markdown",
   "id": "85009bff",
   "metadata": {},
   "source": [
    "## Standard Device"
   ]
  },
  {
   "cell_type": "code",
   "execution_count": 1,
   "id": "8ff597c7",
   "metadata": {},
   "outputs": [
    {
     "name": "stdout",
     "output_type": "stream",
     "text": [
      "Inserisci il tuo nome: Romolo\n",
      "Ciao Romolo\n"
     ]
    }
   ],
   "source": [
    "var = input(\"Inserisci il tuo nome: \")\n",
    "print(f\"Ciao {var}\")"
   ]
  },
  {
   "cell_type": "markdown",
   "id": "18f517dd",
   "metadata": {},
   "source": [
    "## Lettura da file"
   ]
  },
  {
   "cell_type": "code",
   "execution_count": 2,
   "id": "6232a93c",
   "metadata": {},
   "outputs": [
    {
     "name": "stdout",
     "output_type": "stream",
     "text": [
      "Questo è un file di prova\n",
      "\n",
      "linea 2\n",
      "\n",
      "linea 3\n",
      "\n",
      "linea 4\n",
      "\n",
      "ultima linea\n"
     ]
    }
   ],
   "source": [
    "f = open('example04.txt','r')\n",
    "lines=f.readlines()\n",
    "for line in lines:\n",
    "    print(line)"
   ]
  },
  {
   "cell_type": "code",
   "execution_count": 3,
   "id": "1acccb35",
   "metadata": {},
   "outputs": [
    {
     "name": "stdout",
     "output_type": "stream",
     "text": [
      "Questo è un file di prova\n",
      "linea 2\n",
      "linea 3\n",
      "linea 4\n",
      "ultima linea\n"
     ]
    }
   ],
   "source": [
    "for line in lines:\n",
    "        print(line.strip())"
   ]
  },
  {
   "cell_type": "code",
   "execution_count": 4,
   "id": "60a559a9",
   "metadata": {},
   "outputs": [],
   "source": [
    "f.close()"
   ]
  },
  {
   "cell_type": "markdown",
   "id": "cb477c28",
   "metadata": {},
   "source": [
    "### Scrittura su file"
   ]
  },
  {
   "cell_type": "code",
   "execution_count": 5,
   "id": "0276529f",
   "metadata": {},
   "outputs": [],
   "source": [
    "f = open('example05.txt','w')\n",
    "f.write(\"questo è un esempio\\n\")\n",
    "f.close()"
   ]
  },
  {
   "cell_type": "code",
   "execution_count": 6,
   "id": "b3b5d9ef",
   "metadata": {},
   "outputs": [],
   "source": [
    "exVar1, exVar2 = \"Antonio\", \"Fulvio\""
   ]
  },
  {
   "cell_type": "code",
   "execution_count": 7,
   "id": "34d22d7e",
   "metadata": {},
   "outputs": [],
   "source": [
    "f = open('example05.txt','a')\n",
    "f.write(\"{0:<5} | {2:^15} | {1:^15}\\n\".format('test',exVar1,exVar2))\n",
    "f.write(\"{0:05d} | {2:^15} | {1:^15}\\n\".format(1,'ok','No'))\n",
    "f.close()"
   ]
  },
  {
   "cell_type": "code",
   "execution_count": null,
   "id": "ce85c228",
   "metadata": {},
   "outputs": [],
   "source": []
  }
 ],
 "metadata": {
  "kernelspec": {
   "display_name": "Python 3",
   "language": "python",
   "name": "python3"
  },
  "language_info": {
   "codemirror_mode": {
    "name": "ipython",
    "version": 3
   },
   "file_extension": ".py",
   "mimetype": "text/x-python",
   "name": "python",
   "nbconvert_exporter": "python",
   "pygments_lexer": "ipython3",
   "version": "3.9.5"
  }
 },
 "nbformat": 4,
 "nbformat_minor": 5
}
