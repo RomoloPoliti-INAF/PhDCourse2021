{
 "cells": [
  {
   "cell_type": "markdown",
   "id": "c4978132",
   "metadata": {},
   "source": [
    "# Funzioni"
   ]
  },
  {
   "cell_type": "code",
   "execution_count": 1,
   "id": "1e3882ea",
   "metadata": {},
   "outputs": [],
   "source": [
    "def myFunct():\n",
    "   print(\"Ciao\")"
   ]
  },
  {
   "cell_type": "code",
   "execution_count": 2,
   "id": "a16d7883",
   "metadata": {},
   "outputs": [
    {
     "name": "stdout",
     "output_type": "stream",
     "text": [
      "Ciao\n"
     ]
    }
   ],
   "source": [
    "myFunct()"
   ]
  },
  {
   "cell_type": "markdown",
   "id": "d5bb986c",
   "metadata": {},
   "source": [
    "## Funzioni con argomento e paramatro"
   ]
  },
  {
   "cell_type": "code",
   "execution_count": 9,
   "id": "81ec6d37",
   "metadata": {},
   "outputs": [],
   "source": [
    "def myFunct(arg, par1 = False):\n",
    "   print(f\"Hello {arg}\")\n",
    "   if par1:\n",
    "       print(\"Oggi è una bella giornata\")"
   ]
  },
  {
   "cell_type": "code",
   "execution_count": 10,
   "id": "cbd59390",
   "metadata": {},
   "outputs": [
    {
     "name": "stdout",
     "output_type": "stream",
     "text": [
      "Hello Antonio\n"
     ]
    }
   ],
   "source": [
    "myFunct(\"Antonio\")"
   ]
  },
  {
   "cell_type": "code",
   "execution_count": 11,
   "id": "48fcd4fa",
   "metadata": {},
   "outputs": [
    {
     "name": "stdout",
     "output_type": "stream",
     "text": [
      "Hello Antonio\n",
      "Oggi è una bella giornata\n"
     ]
    }
   ],
   "source": [
    "myFunct(\"Antonio\", True)"
   ]
  },
  {
   "cell_type": "code",
   "execution_count": 12,
   "id": "9540797c",
   "metadata": {},
   "outputs": [
    {
     "name": "stdout",
     "output_type": "stream",
     "text": [
      "Hello Fulvio\n",
      "Oggi è una bella giornata\n"
     ]
    }
   ],
   "source": [
    "myFunct(\"Fulvio\", par1 = True)"
   ]
  },
  {
   "cell_type": "code",
   "execution_count": 18,
   "id": "fbac7c4a",
   "metadata": {},
   "outputs": [
    {
     "name": "stdout",
     "output_type": "stream",
     "text": [
      "Hello Antonio\n",
      "Oggi è una bella giornata\n"
     ]
    }
   ],
   "source": [
    "myFunct(par1 = True, arg = \"Antonio\")"
   ]
  },
  {
   "cell_type": "markdown",
   "id": "f99873d3",
   "metadata": {},
   "source": [
    "## Valore di ritorno "
   ]
  },
  {
   "cell_type": "code",
   "execution_count": 13,
   "id": "ce8eec7b",
   "metadata": {},
   "outputs": [],
   "source": [
    "def power(pw,base=2):\n",
    "    return base**pw\n",
    "    "
   ]
  },
  {
   "cell_type": "code",
   "execution_count": 14,
   "id": "868687e6",
   "metadata": {},
   "outputs": [
    {
     "data": {
      "text/plain": [
       "4"
      ]
     },
     "execution_count": 14,
     "metadata": {},
     "output_type": "execute_result"
    }
   ],
   "source": [
    "power(2)"
   ]
  },
  {
   "cell_type": "code",
   "execution_count": 16,
   "id": "dd435570",
   "metadata": {},
   "outputs": [
    {
     "name": "stdout",
     "output_type": "stream",
     "text": [
      "Il qubo di 2 è 8\n"
     ]
    }
   ],
   "source": [
    "print(f\"Il qubo di 2 è {power(3)}\")"
   ]
  },
  {
   "cell_type": "code",
   "execution_count": 19,
   "id": "8bb8117f",
   "metadata": {},
   "outputs": [],
   "source": [
    "def test(val):\n",
    "    return val + 1, val - 1"
   ]
  },
  {
   "cell_type": "code",
   "execution_count": 20,
   "id": "6d732b80",
   "metadata": {},
   "outputs": [
    {
     "data": {
      "text/plain": [
       "(3, 1)"
      ]
     },
     "execution_count": 20,
     "metadata": {},
     "output_type": "execute_result"
    }
   ],
   "source": [
    "test(2)"
   ]
  },
  {
   "cell_type": "code",
   "execution_count": 24,
   "id": "e8926775",
   "metadata": {},
   "outputs": [
    {
     "name": "stdout",
     "output_type": "stream",
     "text": [
      "Il numero successivo a 3 è 4.\n",
      "Il numero precedente a 3 è 2.\n"
     ]
    }
   ],
   "source": [
    "print(\"Il numero successivo a {0} è {1}.\\nIl numero precedente a {0} è {2}.\".format(3,*test(3))) "
   ]
  },
  {
   "cell_type": "markdown",
   "id": "0155a7c9",
   "metadata": {},
   "source": [
    "## Numero di argomenti sconosciuto"
   ]
  },
  {
   "cell_type": "code",
   "execution_count": 25,
   "id": "59b9678c",
   "metadata": {},
   "outputs": [
    {
     "name": "stdout",
     "output_type": "stream",
     "text": [
      "The youngest child is Linus\n"
     ]
    }
   ],
   "source": [
    "def my_function(*kids):\n",
    "  print(\"The youngest child is \" + kids[2])\n",
    "\n",
    "my_function(\"Emil\", \"Tobias\", \"Linus\")"
   ]
  },
  {
   "cell_type": "markdown",
   "id": "1e7a1069",
   "metadata": {},
   "source": [
    "## Numero di parametri sconosciuto"
   ]
  },
  {
   "cell_type": "code",
   "execution_count": 26,
   "id": "53ce326a",
   "metadata": {},
   "outputs": [
    {
     "name": "stdout",
     "output_type": "stream",
     "text": [
      "His last name is Refsnes\n"
     ]
    }
   ],
   "source": [
    "def my_function(**kid):\n",
    "  print(\"His last name is \" + kid[\"lname\"])\n",
    "\n",
    "my_function(fname = \"Tobias\", lname = \"Refsnes\")"
   ]
  },
  {
   "cell_type": "code",
   "execution_count": null,
   "id": "4f8c33f3",
   "metadata": {},
   "outputs": [],
   "source": []
  }
 ],
 "metadata": {
  "kernelspec": {
   "display_name": "Python 3",
   "language": "python",
   "name": "python3"
  },
  "language_info": {
   "codemirror_mode": {
    "name": "ipython",
    "version": 3
   },
   "file_extension": ".py",
   "mimetype": "text/x-python",
   "name": "python",
   "nbconvert_exporter": "python",
   "pygments_lexer": "ipython3",
   "version": "3.9.1"
  }
 },
 "nbformat": 4,
 "nbformat_minor": 5
}
