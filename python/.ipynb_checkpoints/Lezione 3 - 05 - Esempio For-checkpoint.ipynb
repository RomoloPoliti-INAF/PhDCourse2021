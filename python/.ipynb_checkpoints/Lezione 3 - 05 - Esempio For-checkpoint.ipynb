{
 "cells": [
  {
   "cell_type": "markdown",
   "id": "09d224b2",
   "metadata": {},
   "source": [
    "# Esempio for"
   ]
  },
  {
   "cell_type": "code",
   "execution_count": 1,
   "id": "d50a6a50",
   "metadata": {},
   "outputs": [
    {
     "name": "stdout",
     "output_type": "stream",
     "text": [
      "Mi piacciono le mele\n",
      "Mi piacciono le pere\n",
      "Mi piacciono le banane\n"
     ]
    }
   ],
   "source": [
    "frutta = [\"mele\", \"pere\", \"banane\"]\n",
    "for elem in frutta:\n",
    "    print(f\"Mi piacciono le {elem}\")"
   ]
  },
  {
   "cell_type": "code",
   "execution_count": 2,
   "id": "0ca27073",
   "metadata": {},
   "outputs": [
    {
     "name": "stdout",
     "output_type": "stream",
     "text": [
      "Mi piaccioni le \n",
      "M\n",
      "E\n",
      "L\n",
      "E\n"
     ]
    }
   ],
   "source": [
    "print(\"Mi piaccioni le \")\n",
    "for elem in 'mele':\n",
    "    print(f\"{elem.upper()}\")"
   ]
  },
  {
   "cell_type": "code",
   "execution_count": 3,
   "id": "59b40316",
   "metadata": {},
   "outputs": [],
   "source": [
    "frutta={\"comune\":{\"mele\",\"pere\"},\"esotica\":{\"banane\",\"papaja\"}}"
   ]
  },
  {
   "cell_type": "code",
   "execution_count": 4,
   "id": "890855ca",
   "metadata": {},
   "outputs": [
    {
     "name": "stdout",
     "output_type": "stream",
     "text": [
      "Mi piacciono le comune\n",
      "Mi piacciono le esotica\n"
     ]
    }
   ],
   "source": [
    "for elem in frutta:\n",
    "    print(f\"Mi piacciono le {elem}\")"
   ]
  },
  {
   "cell_type": "code",
   "execution_count": 5,
   "id": "af398955",
   "metadata": {},
   "outputs": [
    {
     "name": "stdout",
     "output_type": "stream",
     "text": [
      "Per la frutta comune:\n",
      "\tMi piacciono le pere\n",
      "\tMi piacciono le mele\n",
      "Per la frutta esotica:\n",
      "\tMi piacciono le papaja\n",
      "\tMi piacciono le banane\n"
     ]
    }
   ],
   "source": [
    "for outer in frutta:\n",
    "    print(f\"Per la frutta {outer}:\")\n",
    "    for inner in frutta[outer]:\n",
    "        print(f\"\\tMi piacciono le {inner}\")"
   ]
  },
  {
   "cell_type": "code",
   "execution_count": null,
   "id": "c599771a",
   "metadata": {},
   "outputs": [],
   "source": []
  }
 ],
 "metadata": {
  "kernelspec": {
   "display_name": "Python 3",
   "language": "python",
   "name": "python3"
  },
  "language_info": {
   "codemirror_mode": {
    "name": "ipython",
    "version": 3
   },
   "file_extension": ".py",
   "mimetype": "text/x-python",
   "name": "python",
   "nbconvert_exporter": "python",
   "pygments_lexer": "ipython3",
   "version": "3.9.5"
  }
 },
 "nbformat": 4,
 "nbformat_minor": 5
}
