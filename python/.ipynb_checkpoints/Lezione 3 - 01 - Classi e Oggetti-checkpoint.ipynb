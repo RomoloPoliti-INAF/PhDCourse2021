{
 "cells": [
  {
   "cell_type": "markdown",
   "id": "3ac9efeb",
   "metadata": {},
   "source": [
    "# Classi e Oggetti "
   ]
  },
  {
   "cell_type": "markdown",
   "id": "87e6f5b9",
   "metadata": {},
   "source": [
    "## Esempio Base"
   ]
  },
  {
   "cell_type": "markdown",
   "id": "1120fb67",
   "metadata": {},
   "source": [
    "Definiamo uma classe esempio:"
   ]
  },
  {
   "cell_type": "code",
   "execution_count": null,
   "id": "2a3fcd9b",
   "metadata": {},
   "outputs": [],
   "source": [
    "class Ops:\n",
    "    x = 1\n",
    "    y = 2\n",
    "\n",
    "    def sum(self):\n",
    "        return self.x+self.y"
   ]
  },
  {
   "cell_type": "markdown",
   "id": "be115237",
   "metadata": {},
   "source": [
    "Creiamo un oggetto di tipo Ops"
   ]
  },
  {
   "cell_type": "code",
   "execution_count": null,
   "id": "af58dc71",
   "metadata": {},
   "outputs": [],
   "source": [
    "a=Ops()"
   ]
  },
  {
   "cell_type": "markdown",
   "id": "4bfa03f3",
   "metadata": {},
   "source": [
    "appichiamo il metodo sum"
   ]
  },
  {
   "cell_type": "code",
   "execution_count": null,
   "id": "a8fb4723",
   "metadata": {},
   "outputs": [],
   "source": [
    "a.sum()"
   ]
  },
  {
   "cell_type": "markdown",
   "id": "3a530152",
   "metadata": {},
   "source": [
    "## Il metodo \\_\\_init\\_\\_"
   ]
  },
  {
   "cell_type": "code",
   "execution_count": null,
   "id": "2753f48b",
   "metadata": {},
   "outputs": [],
   "source": [
    "class Ops:\n",
    "    def __init__(self,x,y):\n",
    "        self.x = x\n",
    "        self.y = y\n",
    "        \n",
    "    def sum(self):\n",
    "        return self.x+self.y"
   ]
  },
  {
   "cell_type": "code",
   "execution_count": null,
   "id": "3905832c",
   "metadata": {},
   "outputs": [],
   "source": [
    "a=Ops(1,2)"
   ]
  },
  {
   "cell_type": "code",
   "execution_count": null,
   "id": "3db372d0",
   "metadata": {},
   "outputs": [],
   "source": [
    "a.sum()"
   ]
  },
  {
   "cell_type": "code",
   "execution_count": null,
   "id": "04297a61",
   "metadata": {},
   "outputs": [],
   "source": [
    "b=Ops(3,4)"
   ]
  },
  {
   "cell_type": "code",
   "execution_count": null,
   "id": "98cfbb34",
   "metadata": {},
   "outputs": [],
   "source": [
    "b.sum()"
   ]
  },
  {
   "cell_type": "markdown",
   "id": "10988530",
   "metadata": {},
   "source": [
    "## Importare un modulo"
   ]
  },
  {
   "cell_type": "code",
   "execution_count": null,
   "id": "0d046fc7",
   "metadata": {},
   "outputs": [],
   "source": [
    "from example02 import Ops2"
   ]
  },
  {
   "cell_type": "code",
   "execution_count": null,
   "id": "b93f8fe1",
   "metadata": {},
   "outputs": [],
   "source": [
    "c=Ops2(7,1)"
   ]
  },
  {
   "cell_type": "code",
   "execution_count": null,
   "id": "c80f36e0",
   "metadata": {},
   "outputs": [],
   "source": [
    "c.sum()"
   ]
  },
  {
   "cell_type": "code",
   "execution_count": null,
   "id": "9c57e67b",
   "metadata": {},
   "outputs": [],
   "source": [
    "c.prod()"
   ]
  },
  {
   "cell_type": "markdown",
   "id": "b3813412",
   "metadata": {},
   "source": [
    "## Metodi intrinsechi"
   ]
  },
  {
   "cell_type": "code",
   "execution_count": null,
   "id": "f0b60527",
   "metadata": {},
   "outputs": [],
   "source": [
    "dir(c)"
   ]
  },
  {
   "cell_type": "code",
   "execution_count": null,
   "id": "6d509bff",
   "metadata": {},
   "outputs": [],
   "source": [
    "c.__class__"
   ]
  },
  {
   "cell_type": "code",
   "execution_count": null,
   "id": "7b9894aa",
   "metadata": {},
   "outputs": [],
   "source": [
    "type(c)"
   ]
  },
  {
   "cell_type": "code",
   "execution_count": null,
   "id": "2f2420ce",
   "metadata": {},
   "outputs": [],
   "source": [
    "c.__dict__"
   ]
  },
  {
   "cell_type": "code",
   "execution_count": null,
   "id": "ee02cb92",
   "metadata": {},
   "outputs": [],
   "source": [
    "vars(c)"
   ]
  },
  {
   "cell_type": "code",
   "execution_count": null,
   "id": "7ba9d2a5",
   "metadata": {},
   "outputs": [],
   "source": [
    "c.sum"
   ]
  }
 ],
 "metadata": {
  "kernelspec": {
   "display_name": "Python 3",
   "language": "python",
   "name": "python3"
  },
  "language_info": {
   "codemirror_mode": {
    "name": "ipython",
    "version": 3
   },
   "file_extension": ".py",
   "mimetype": "text/x-python",
   "name": "python",
   "nbconvert_exporter": "python",
   "pygments_lexer": "ipython3",
   "version": "3.9.1"
  }
 },
 "nbformat": 4,
 "nbformat_minor": 5
}
