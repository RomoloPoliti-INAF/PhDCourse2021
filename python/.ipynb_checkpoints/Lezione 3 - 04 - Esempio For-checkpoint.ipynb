{
 "cells": [
  {
   "cell_type": "markdown",
   "id": "09d224b2",
   "metadata": {},
   "source": [
    "# Esempio for"
   ]
  },
  {
   "cell_type": "code",
   "execution_count": null,
   "id": "d50a6a50",
   "metadata": {},
   "outputs": [],
   "source": [
    "frutta = [\"mele\", \"pere\", \"banane\"]\n",
    "for elem in frutta:\n",
    "    print(f\"Mi piacciono le {elem}\")"
   ]
  },
  {
   "cell_type": "code",
   "execution_count": null,
   "id": "0ca27073",
   "metadata": {},
   "outputs": [],
   "source": [
    "print(\"Mi piaccioni le \")\n",
    "for elem in 'mele':\n",
    "    print(f\"{elem.upper()}\")"
   ]
  },
  {
   "cell_type": "code",
   "execution_count": null,
   "id": "59b40316",
   "metadata": {},
   "outputs": [],
   "source": [
    "frutta={\"comune\":{\"mele\",\"pere\"},\"esotica\":{\"banane\",\"papaja\"}}"
   ]
  },
  {
   "cell_type": "code",
   "execution_count": null,
   "id": "890855ca",
   "metadata": {},
   "outputs": [],
   "source": [
    "for elem in frutta:\n",
    "    print(f\"Mi piacciono le {elem}\")"
   ]
  },
  {
   "cell_type": "code",
   "execution_count": null,
   "id": "af398955",
   "metadata": {},
   "outputs": [],
   "source": [
    "for outer in frutta:\n",
    "    print(f\"Per la frutta {outer}:\")\n",
    "    for inner in frutta[outer]:\n",
    "        print(f\"\\tMi piacciono le {inner}\")"
   ]
  },
  {
   "cell_type": "code",
   "execution_count": null,
   "id": "c599771a",
   "metadata": {},
   "outputs": [],
   "source": []
  }
 ],
 "metadata": {
  "kernelspec": {
   "display_name": "Python 3",
   "language": "python",
   "name": "python3"
  },
  "language_info": {
   "codemirror_mode": {
    "name": "ipython",
    "version": 3
   },
   "file_extension": ".py",
   "mimetype": "text/x-python",
   "name": "python",
   "nbconvert_exporter": "python",
   "pygments_lexer": "ipython3",
   "version": "3.9.1"
  }
 },
 "nbformat": 4,
 "nbformat_minor": 5
}
