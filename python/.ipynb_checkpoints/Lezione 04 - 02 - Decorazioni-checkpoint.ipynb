{
 "cells": [
  {
   "cell_type": "markdown",
   "id": "315baa3b",
   "metadata": {},
   "source": [
    "# Decoration"
   ]
  },
  {
   "cell_type": "code",
   "execution_count": null,
   "id": "73042678",
   "metadata": {},
   "outputs": [],
   "source": [
    "def myDec(func):\n",
    "    def inner(*args, **keys):\n",
    "        print(\"###############\")\n",
    "        func(*args,**keys)\n",
    "        print(\"###############\")\n",
    "    return inner"
   ]
  },
  {
   "cell_type": "code",
   "execution_count": null,
   "id": "3006e24e",
   "metadata": {},
   "outputs": [],
   "source": [
    "@myDec\n",
    "def myFunc(arg):\n",
    "    print(f\"Hello {arg}\")\n"
   ]
  },
  {
   "cell_type": "code",
   "execution_count": null,
   "id": "a8db12e7",
   "metadata": {},
   "outputs": [],
   "source": [
    "myFunc(\"Antonio\")"
   ]
  },
  {
   "cell_type": "code",
   "execution_count": null,
   "id": "d9c2a241",
   "metadata": {},
   "outputs": [],
   "source": []
  }
 ],
 "metadata": {
  "interpreter": {
   "hash": "aee8b7b246df8f9039afb4144a1f6fd8d2ca17a180786b69acc140d282b71a49"
  },
  "kernelspec": {
   "display_name": "Python 3",
   "language": "python",
   "name": "python3"
  },
  "language_info": {
   "codemirror_mode": {
    "name": "ipython",
    "version": 3
   },
   "file_extension": ".py",
   "mimetype": "text/x-python",
   "name": "python",
   "nbconvert_exporter": "python",
   "pygments_lexer": "ipython3",
   "version": "3.9.1"
  }
 },
 "nbformat": 4,
 "nbformat_minor": 5
}
