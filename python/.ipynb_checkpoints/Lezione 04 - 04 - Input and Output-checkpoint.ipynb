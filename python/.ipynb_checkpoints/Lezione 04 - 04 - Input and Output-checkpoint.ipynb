{
 "cells": [
  {
   "cell_type": "markdown",
   "id": "443b9361",
   "metadata": {},
   "source": [
    "# Input and Output"
   ]
  },
  {
   "cell_type": "markdown",
   "id": "661193ce",
   "metadata": {},
   "source": [
    "## Standard Device"
   ]
  },
  {
   "cell_type": "code",
   "execution_count": 4,
   "id": "585f9735",
   "metadata": {},
   "outputs": [
    {
     "name": "stdout",
     "output_type": "stream",
     "text": [
      "Inserisci il tuo nome: Romolo\n",
      "Ciao Romolo\n"
     ]
    }
   ],
   "source": [
    "var = input(\"Inserisci il tuo nome: \")\n",
    "print(f\"Ciao {var}\")"
   ]
  },
  {
   "cell_type": "markdown",
   "id": "0b4bd00a",
   "metadata": {},
   "source": [
    "## Lettura da file"
   ]
  },
  {
   "cell_type": "code",
   "execution_count": 7,
   "id": "5f3c4c3d",
   "metadata": {},
   "outputs": [
    {
     "name": "stdout",
     "output_type": "stream",
     "text": [
      "Questo è un file di prova\n",
      "\n",
      "linea 2\n",
      "\n",
      "linea 3\n",
      "\n",
      "linea 4\n",
      "\n",
      "ultima linea\n"
     ]
    }
   ],
   "source": [
    "with open('example04.txt','r') as f:\n",
    "    lines=f.readlines()\n",
    "    for line in lines:\n",
    "        print(line)"
   ]
  },
  {
   "cell_type": "code",
   "execution_count": 9,
   "id": "771a133f",
   "metadata": {},
   "outputs": [
    {
     "name": "stdout",
     "output_type": "stream",
     "text": [
      "Questo è un file di prova\n",
      "linea 2\n",
      "linea 3\n",
      "linea 4\n",
      "ultima linea\n"
     ]
    }
   ],
   "source": [
    "for line in lines:\n",
    "        print(line.strip())"
   ]
  },
  {
   "cell_type": "markdown",
   "id": "f51dc6e0",
   "metadata": {},
   "source": [
    "### Scrittura su file"
   ]
  },
  {
   "cell_type": "code",
   "execution_count": 14,
   "id": "192549cb",
   "metadata": {},
   "outputs": [],
   "source": [
    "with open('example05.txt','w') as f:\n",
    "    f.write(\"questo è un esempio\\n\")"
   ]
  },
  {
   "cell_type": "code",
   "execution_count": 15,
   "id": "6d2f53e3",
   "metadata": {},
   "outputs": [],
   "source": [
    "exVar1, exVar2 = \"Antonio\", \"Fulvio\""
   ]
  },
  {
   "cell_type": "code",
   "execution_count": 17,
   "id": "60bea2e6",
   "metadata": {},
   "outputs": [],
   "source": [
    "with open('example05.txt','a') as f:\n",
    "    f.write(\"test | {1:-^15} | {0}\\n\".format(exVar1,exVar2))"
   ]
  },
  {
   "cell_type": "code",
   "execution_count": null,
   "id": "91324232",
   "metadata": {},
   "outputs": [],
   "source": []
  }
 ],
 "metadata": {
  "kernelspec": {
   "display_name": "Python 3",
   "language": "python",
   "name": "python3"
  },
  "language_info": {
   "codemirror_mode": {
    "name": "ipython",
    "version": 3
   },
   "file_extension": ".py",
   "mimetype": "text/x-python",
   "name": "python",
   "nbconvert_exporter": "python",
   "pygments_lexer": "ipython3",
   "version": "3.9.1"
  }
 },
 "nbformat": 4,
 "nbformat_minor": 5
}
