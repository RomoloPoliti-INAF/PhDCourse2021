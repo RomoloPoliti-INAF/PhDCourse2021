{
 "cells": [
  {
   "cell_type": "markdown",
   "id": "315baa3b",
   "metadata": {},
   "source": [
    "# Decoration"
   ]
  },
  {
   "cell_type": "code",
   "execution_count": 1,
   "id": "73042678",
   "metadata": {},
   "outputs": [],
   "source": [
    "def myDec(func):\n",
    "    def inner(*args, **keys):\n",
    "        print(\"###############\")\n",
    "        func(*args,**keys)\n",
    "        print(\"###############\")\n",
    "    return inner"
   ]
  },
  {
   "cell_type": "code",
   "execution_count": 2,
   "id": "3006e24e",
   "metadata": {},
   "outputs": [],
   "source": [
    "@myDec\n",
    "def myFunc(arg):\n",
    "    print(f\"Hello {arg}\")\n"
   ]
  },
  {
   "cell_type": "code",
   "execution_count": 3,
   "id": "a8db12e7",
   "metadata": {},
   "outputs": [
    {
     "name": "stdout",
     "output_type": "stream",
     "text": [
      "###############\n",
      "Hello Antonio\n",
      "###############\n"
     ]
    }
   ],
   "source": [
    "myFunc(\"Antonio\")"
   ]
  },
  {
   "cell_type": "code",
   "execution_count": 4,
   "id": "d9c2a241",
   "metadata": {},
   "outputs": [],
   "source": [
    "@myDec\n",
    "def f2():\n",
    "    print(\"Hello\")"
   ]
  },
  {
   "cell_type": "code",
   "execution_count": 5,
   "id": "0677acae",
   "metadata": {},
   "outputs": [
    {
     "name": "stdout",
     "output_type": "stream",
     "text": [
      "###############\n",
      "Hello\n",
      "###############\n"
     ]
    }
   ],
   "source": [
    "f2()"
   ]
  },
  {
   "cell_type": "code",
   "execution_count": 6,
   "id": "78ac7503",
   "metadata": {},
   "outputs": [
    {
     "data": {
      "text/plain": [
       "['__annotations__',\n",
       " '__call__',\n",
       " '__class__',\n",
       " '__closure__',\n",
       " '__code__',\n",
       " '__defaults__',\n",
       " '__delattr__',\n",
       " '__dict__',\n",
       " '__dir__',\n",
       " '__doc__',\n",
       " '__eq__',\n",
       " '__format__',\n",
       " '__ge__',\n",
       " '__get__',\n",
       " '__getattribute__',\n",
       " '__globals__',\n",
       " '__gt__',\n",
       " '__hash__',\n",
       " '__init__',\n",
       " '__init_subclass__',\n",
       " '__kwdefaults__',\n",
       " '__le__',\n",
       " '__lt__',\n",
       " '__module__',\n",
       " '__name__',\n",
       " '__ne__',\n",
       " '__new__',\n",
       " '__qualname__',\n",
       " '__reduce__',\n",
       " '__reduce_ex__',\n",
       " '__repr__',\n",
       " '__setattr__',\n",
       " '__sizeof__',\n",
       " '__str__',\n",
       " '__subclasshook__']"
      ]
     },
     "execution_count": 6,
     "metadata": {},
     "output_type": "execute_result"
    }
   ],
   "source": [
    "dir(f2)"
   ]
  },
  {
   "cell_type": "code",
   "execution_count": 7,
   "id": "6adecd72",
   "metadata": {},
   "outputs": [],
   "source": [
    "def pippo():\n",
    "    print(\"pippo\")\n",
    "    return \"ok\""
   ]
  },
  {
   "cell_type": "code",
   "execution_count": 8,
   "id": "824f9119",
   "metadata": {},
   "outputs": [
    {
     "name": "stdout",
     "output_type": "stream",
     "text": [
      "pippo\n"
     ]
    }
   ],
   "source": [
    "var1=pippo()"
   ]
  },
  {
   "cell_type": "code",
   "execution_count": 9,
   "id": "52398b59",
   "metadata": {},
   "outputs": [
    {
     "data": {
      "text/plain": [
       "str"
      ]
     },
     "execution_count": 9,
     "metadata": {},
     "output_type": "execute_result"
    }
   ],
   "source": [
    "type(var1)"
   ]
  },
  {
   "cell_type": "code",
   "execution_count": 10,
   "id": "2e0c2737",
   "metadata": {},
   "outputs": [],
   "source": [
    "var2=pippo"
   ]
  },
  {
   "cell_type": "code",
   "execution_count": 11,
   "id": "34c35c90",
   "metadata": {},
   "outputs": [
    {
     "data": {
      "text/plain": [
       "function"
      ]
     },
     "execution_count": 11,
     "metadata": {},
     "output_type": "execute_result"
    }
   ],
   "source": [
    "type(var2)"
   ]
  },
  {
   "cell_type": "code",
   "execution_count": 12,
   "id": "1f1e515f",
   "metadata": {},
   "outputs": [
    {
     "name": "stdout",
     "output_type": "stream",
     "text": [
      "pippo\n"
     ]
    },
    {
     "data": {
      "text/plain": [
       "'ok'"
      ]
     },
     "execution_count": 12,
     "metadata": {},
     "output_type": "execute_result"
    }
   ],
   "source": [
    "var2()"
   ]
  },
  {
   "cell_type": "code",
   "execution_count": null,
   "id": "4438790c",
   "metadata": {},
   "outputs": [],
   "source": []
  }
 ],
 "metadata": {
  "interpreter": {
   "hash": "aee8b7b246df8f9039afb4144a1f6fd8d2ca17a180786b69acc140d282b71a49"
  },
  "kernelspec": {
   "display_name": "Python 3",
   "language": "python",
   "name": "python3"
  },
  "language_info": {
   "codemirror_mode": {
    "name": "ipython",
    "version": 3
   },
   "file_extension": ".py",
   "mimetype": "text/x-python",
   "name": "python",
   "nbconvert_exporter": "python",
   "pygments_lexer": "ipython3",
   "version": "3.9.5"
  }
 },
 "nbformat": 4,
 "nbformat_minor": 5
}
