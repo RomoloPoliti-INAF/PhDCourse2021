{
 "cells": [
  {
   "cell_type": "markdown",
   "id": "88578527",
   "metadata": {},
   "source": [
    "# Esempio while"
   ]
  },
  {
   "cell_type": "code",
   "execution_count": 4,
   "id": "2d2d9788",
   "metadata": {},
   "outputs": [
    {
     "name": "stdout",
     "output_type": "stream",
     "text": [
      "Countdown:  1\r"
     ]
    }
   ],
   "source": [
    "\n",
    "\n",
    "import time\n",
    "a=10\n",
    "\n",
    "while a>0:\n",
    "    print(f\"Countdown: {a:>2}\", end=\"\\r\") \n",
    "    a-=1\n",
    "    time.sleep(0.2)\n",
    "    "
   ]
  },
  {
   "cell_type": "code",
   "execution_count": null,
   "id": "34ce7256",
   "metadata": {},
   "outputs": [],
   "source": []
  }
 ],
 "metadata": {
  "kernelspec": {
   "display_name": "Python 3",
   "language": "python",
   "name": "python3"
  },
  "language_info": {
   "codemirror_mode": {
    "name": "ipython",
    "version": 3
   },
   "file_extension": ".py",
   "mimetype": "text/x-python",
   "name": "python",
   "nbconvert_exporter": "python",
   "pygments_lexer": "ipython3",
   "version": "3.9.5"
  }
 },
 "nbformat": 4,
 "nbformat_minor": 5
}
